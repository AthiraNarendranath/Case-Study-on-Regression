{
 "cells": [
  {
   "cell_type": "markdown",
   "id": "90d63252",
   "metadata": {},
   "source": [
    "# Case study on Regression"
   ]
  },
  {
   "cell_type": "raw",
   "id": "6fbec346",
   "metadata": {},
   "source": [
    "The given dataset contains price of second-hand Hyundai grand i10 car with\n",
    "respect to year of making. Find the best linear relationship between year and\n",
    "price. Can you predict the possible price of a 2022 model second-hand grand i10?\n",
    "Please learn about lasso regression and create a model along with linear\n",
    "regression. Find out which one is performing better. "
   ]
  },
  {
   "cell_type": "code",
   "execution_count": 1,
   "id": "016ea746",
   "metadata": {},
   "outputs": [],
   "source": [
    "#Import necessary libraries\n",
    "import pandas as pd\n",
    "import numpy as np\n",
    "import matplotlib.pyplot as plt\n",
    "%matplotlib inline\n",
    "import seaborn as sns"
   ]
  },
  {
   "cell_type": "code",
   "execution_count": 2,
   "id": "905f4681",
   "metadata": {},
   "outputs": [],
   "source": [
    "#Ignore warning messages\n",
    "import warnings\n",
    "warnings.filterwarnings(\"ignore\")"
   ]
  },
  {
   "cell_type": "code",
   "execution_count": 3,
   "id": "852e0fc3",
   "metadata": {},
   "outputs": [],
   "source": [
    "#Loading the dataset\n",
    "data=pd.read_csv('car_age_price.csv')"
   ]
  },
  {
   "cell_type": "markdown",
   "id": "c5d1a44b",
   "metadata": {},
   "source": [
    "# Checking basic details on dataset"
   ]
  },
  {
   "cell_type": "code",
   "execution_count": 4,
   "id": "aa3c847a",
   "metadata": {},
   "outputs": [
    {
     "data": {
      "text/html": [
       "<div>\n",
       "<style scoped>\n",
       "    .dataframe tbody tr th:only-of-type {\n",
       "        vertical-align: middle;\n",
       "    }\n",
       "\n",
       "    .dataframe tbody tr th {\n",
       "        vertical-align: top;\n",
       "    }\n",
       "\n",
       "    .dataframe thead th {\n",
       "        text-align: right;\n",
       "    }\n",
       "</style>\n",
       "<table border=\"1\" class=\"dataframe\">\n",
       "  <thead>\n",
       "    <tr style=\"text-align: right;\">\n",
       "      <th></th>\n",
       "      <th>Year</th>\n",
       "      <th>Price</th>\n",
       "    </tr>\n",
       "  </thead>\n",
       "  <tbody>\n",
       "    <tr>\n",
       "      <th>0</th>\n",
       "      <td>2018</td>\n",
       "      <td>465000</td>\n",
       "    </tr>\n",
       "    <tr>\n",
       "      <th>1</th>\n",
       "      <td>2019</td>\n",
       "      <td>755000</td>\n",
       "    </tr>\n",
       "    <tr>\n",
       "      <th>2</th>\n",
       "      <td>2019</td>\n",
       "      <td>700000</td>\n",
       "    </tr>\n",
       "    <tr>\n",
       "      <th>3</th>\n",
       "      <td>2018</td>\n",
       "      <td>465000</td>\n",
       "    </tr>\n",
       "    <tr>\n",
       "      <th>4</th>\n",
       "      <td>2018</td>\n",
       "      <td>465000</td>\n",
       "    </tr>\n",
       "  </tbody>\n",
       "</table>\n",
       "</div>"
      ],
      "text/plain": [
       "   Year   Price\n",
       "0  2018  465000\n",
       "1  2019  755000\n",
       "2  2019  700000\n",
       "3  2018  465000\n",
       "4  2018  465000"
      ]
     },
     "execution_count": 4,
     "metadata": {},
     "output_type": "execute_result"
    }
   ],
   "source": [
    "#Cheking for any inaccuracy in dataset using head and tail function\n",
    "data.head()"
   ]
  },
  {
   "cell_type": "code",
   "execution_count": 5,
   "id": "b7c0eb64",
   "metadata": {},
   "outputs": [
    {
     "data": {
      "text/html": [
       "<div>\n",
       "<style scoped>\n",
       "    .dataframe tbody tr th:only-of-type {\n",
       "        vertical-align: middle;\n",
       "    }\n",
       "\n",
       "    .dataframe tbody tr th {\n",
       "        vertical-align: top;\n",
       "    }\n",
       "\n",
       "    .dataframe thead th {\n",
       "        text-align: right;\n",
       "    }\n",
       "</style>\n",
       "<table border=\"1\" class=\"dataframe\">\n",
       "  <thead>\n",
       "    <tr style=\"text-align: right;\">\n",
       "      <th></th>\n",
       "      <th>Year</th>\n",
       "      <th>Price</th>\n",
       "    </tr>\n",
       "  </thead>\n",
       "  <tbody>\n",
       "    <tr>\n",
       "      <th>107</th>\n",
       "      <td>2016</td>\n",
       "      <td>375000</td>\n",
       "    </tr>\n",
       "    <tr>\n",
       "      <th>108</th>\n",
       "      <td>2014</td>\n",
       "      <td>300000</td>\n",
       "    </tr>\n",
       "    <tr>\n",
       "      <th>109</th>\n",
       "      <td>2015</td>\n",
       "      <td>425000</td>\n",
       "    </tr>\n",
       "    <tr>\n",
       "      <th>110</th>\n",
       "      <td>2016</td>\n",
       "      <td>420000</td>\n",
       "    </tr>\n",
       "    <tr>\n",
       "      <th>111</th>\n",
       "      <td>2015</td>\n",
       "      <td>425000</td>\n",
       "    </tr>\n",
       "  </tbody>\n",
       "</table>\n",
       "</div>"
      ],
      "text/plain": [
       "     Year   Price\n",
       "107  2016  375000\n",
       "108  2014  300000\n",
       "109  2015  425000\n",
       "110  2016  420000\n",
       "111  2015  425000"
      ]
     },
     "execution_count": 5,
     "metadata": {},
     "output_type": "execute_result"
    }
   ],
   "source": [
    "data.tail()"
   ]
  },
  {
   "cell_type": "code",
   "execution_count": 6,
   "id": "2c2ad45c",
   "metadata": {},
   "outputs": [
    {
     "data": {
      "text/plain": [
       "(112, 2)"
      ]
     },
     "execution_count": 6,
     "metadata": {},
     "output_type": "execute_result"
    }
   ],
   "source": [
    "#Checking the number of rows and columns(dimensions)\n",
    "data.shape"
   ]
  },
  {
   "cell_type": "code",
   "execution_count": 7,
   "id": "cc4460bd",
   "metadata": {},
   "outputs": [
    {
     "data": {
      "text/html": [
       "<div>\n",
       "<style scoped>\n",
       "    .dataframe tbody tr th:only-of-type {\n",
       "        vertical-align: middle;\n",
       "    }\n",
       "\n",
       "    .dataframe tbody tr th {\n",
       "        vertical-align: top;\n",
       "    }\n",
       "\n",
       "    .dataframe thead th {\n",
       "        text-align: right;\n",
       "    }\n",
       "</style>\n",
       "<table border=\"1\" class=\"dataframe\">\n",
       "  <thead>\n",
       "    <tr style=\"text-align: right;\">\n",
       "      <th></th>\n",
       "      <th>Year</th>\n",
       "      <th>Price</th>\n",
       "    </tr>\n",
       "  </thead>\n",
       "  <tbody>\n",
       "    <tr>\n",
       "      <th>count</th>\n",
       "      <td>112.000000</td>\n",
       "      <td>112.000000</td>\n",
       "    </tr>\n",
       "    <tr>\n",
       "      <th>mean</th>\n",
       "      <td>2016.669643</td>\n",
       "      <td>483866.044643</td>\n",
       "    </tr>\n",
       "    <tr>\n",
       "      <th>std</th>\n",
       "      <td>1.629616</td>\n",
       "      <td>91217.450533</td>\n",
       "    </tr>\n",
       "    <tr>\n",
       "      <th>min</th>\n",
       "      <td>2013.000000</td>\n",
       "      <td>300000.000000</td>\n",
       "    </tr>\n",
       "    <tr>\n",
       "      <th>25%</th>\n",
       "      <td>2015.000000</td>\n",
       "      <td>423750.000000</td>\n",
       "    </tr>\n",
       "    <tr>\n",
       "      <th>50%</th>\n",
       "      <td>2017.000000</td>\n",
       "      <td>500000.000000</td>\n",
       "    </tr>\n",
       "    <tr>\n",
       "      <th>75%</th>\n",
       "      <td>2017.000000</td>\n",
       "      <td>550000.000000</td>\n",
       "    </tr>\n",
       "    <tr>\n",
       "      <th>max</th>\n",
       "      <td>2020.000000</td>\n",
       "      <td>755000.000000</td>\n",
       "    </tr>\n",
       "  </tbody>\n",
       "</table>\n",
       "</div>"
      ],
      "text/plain": [
       "              Year          Price\n",
       "count   112.000000     112.000000\n",
       "mean   2016.669643  483866.044643\n",
       "std       1.629616   91217.450533\n",
       "min    2013.000000  300000.000000\n",
       "25%    2015.000000  423750.000000\n",
       "50%    2017.000000  500000.000000\n",
       "75%    2017.000000  550000.000000\n",
       "max    2020.000000  755000.000000"
      ]
     },
     "execution_count": 7,
     "metadata": {},
     "output_type": "execute_result"
    }
   ],
   "source": [
    "#Checking the summary of statistics pertaining to the columns\n",
    "data.describe()\n"
   ]
  },
  {
   "cell_type": "code",
   "execution_count": 8,
   "id": "cf6b4f0e",
   "metadata": {},
   "outputs": [
    {
     "name": "stdout",
     "output_type": "stream",
     "text": [
      "<class 'pandas.core.frame.DataFrame'>\n",
      "RangeIndex: 112 entries, 0 to 111\n",
      "Data columns (total 2 columns):\n",
      " #   Column  Non-Null Count  Dtype\n",
      "---  ------  --------------  -----\n",
      " 0   Year    112 non-null    int64\n",
      " 1   Price   112 non-null    int64\n",
      "dtypes: int64(2)\n",
      "memory usage: 1.9 KB\n"
     ]
    }
   ],
   "source": [
    "#Checking the information(concise summary of DataFrame)\n",
    "data.info()"
   ]
  },
  {
   "cell_type": "markdown",
   "id": "ca8bb136",
   "metadata": {},
   "source": [
    "Feature is in numerical form"
   ]
  },
  {
   "cell_type": "code",
   "execution_count": 9,
   "id": "be0bd7b3",
   "metadata": {},
   "outputs": [
    {
     "data": {
      "text/plain": [
       "Year     0\n",
       "Price    0\n",
       "dtype: int64"
      ]
     },
     "execution_count": 9,
     "metadata": {},
     "output_type": "execute_result"
    }
   ],
   "source": [
    "#Checking null values in each columns\n",
    "data.isnull().sum()"
   ]
  },
  {
   "cell_type": "markdown",
   "id": "e79eed38",
   "metadata": {},
   "source": [
    "No null values in dataset"
   ]
  },
  {
   "cell_type": "code",
   "execution_count": 10,
   "id": "05f00be6",
   "metadata": {},
   "outputs": [
    {
     "data": {
      "text/plain": [
       "<AxesSubplot:xlabel='Year'>"
      ]
     },
     "execution_count": 10,
     "metadata": {},
     "output_type": "execute_result"
    },
    {
     "data": {
      "image/png": "[encoded data removed]",
      "text/plain": [
       "<Figure size 432x288 with 1 Axes>"
      ]
     },
     "metadata": {
      "needs_background": "light"
     },
     "output_type": "display_data"
    }
   ],
   "source": [
    "#Checking for any outliers\n",
    "sns.boxplot(data['Year'])"
   ]
  },
  {
   "cell_type": "markdown",
   "id": "e50a07a3",
   "metadata": {},
   "source": [
    "No outliers present in dataset"
   ]
  },
  {
   "cell_type": "code",
   "execution_count": 11,
   "id": "26097a5b",
   "metadata": {},
   "outputs": [
    {
     "data": {
      "text/plain": [
       "8"
      ]
     },
     "execution_count": 11,
     "metadata": {},
     "output_type": "execute_result"
    }
   ],
   "source": [
    "#Checking number of unique values in Year\n",
    "data['Year'].nunique()"
   ]
  },
  {
   "cell_type": "code",
   "execution_count": 12,
   "id": "97ce4ed6",
   "metadata": {},
   "outputs": [
    {
     "data": {
      "text/plain": [
       "array([2018, 2019, 2015, 2016, 2017, 2020, 2013, 2014], dtype=int64)"
      ]
     },
     "execution_count": 12,
     "metadata": {},
     "output_type": "execute_result"
    }
   ],
   "source": [
    "#Checking what are those unique values\n",
    "data['Year'].unique()"
   ]
  },
  {
   "cell_type": "code",
   "execution_count": 13,
   "id": "2b95289c",
   "metadata": {},
   "outputs": [
    {
     "data": {
      "text/plain": [
       "<AxesSubplot:xlabel='Year', ylabel='Price'>"
      ]
     },
     "execution_count": 13,
     "metadata": {},
     "output_type": "execute_result"
    },
    {
     "data": {
      "image/png": "[encoded data removed]",
      "text/plain": [
       "<Figure size 432x288 with 1 Axes>"
      ]
     },
     "metadata": {
      "needs_background": "light"
     },
     "output_type": "display_data"
    }
   ],
   "source": [
    "#Scatterplot vsualization\n",
    "data.plot.scatter(x='Year',y='Price')"
   ]
  },
  {
   "cell_type": "code",
   "execution_count": 14,
   "id": "26ef5309",
   "metadata": {},
   "outputs": [
    {
     "data": {
      "image/png": "[encoded data removed]",
      "text/plain": [
       "<Figure size 576x288 with 2 Axes>"
      ]
     },
     "metadata": {
      "needs_background": "light"
     },
     "output_type": "display_data"
    }
   ],
   "source": [
    "#Correlation of feature and target \n",
    "cor=data.corr()\n",
    "plt.subplots(figsize=(8,4))\n",
    "sns.heatmap(cor,annot=True,cmap='Greens')\n",
    "plt.show()"
   ]
  },
  {
   "cell_type": "markdown",
   "id": "88de9805",
   "metadata": {},
   "source": [
    "Year and price are highly correlated"
   ]
  },
  {
   "cell_type": "markdown",
   "id": "c474f278",
   "metadata": {},
   "source": [
    "# Splitting the dataset"
   ]
  },
  {
   "cell_type": "code",
   "execution_count": 15,
   "id": "ca830631",
   "metadata": {},
   "outputs": [],
   "source": [
    "X = data['Year']\n",
    "y = data['Price']"
   ]
  },
  {
   "cell_type": "code",
   "execution_count": 16,
   "id": "78da53f9",
   "metadata": {},
   "outputs": [],
   "source": [
    "#reshaping\n",
    "X = np.array(X).reshape(-1,1)"
   ]
  },
  {
   "cell_type": "markdown",
   "id": "be09d797",
   "metadata": {},
   "source": [
    "# Splitting data to training and testing sets"
   ]
  },
  {
   "cell_type": "code",
   "execution_count": 17,
   "id": "d683bf3a",
   "metadata": {},
   "outputs": [],
   "source": [
    "#importing library from sklearn\n",
    "from sklearn.model_selection import train_test_split"
   ]
  },
  {
   "cell_type": "code",
   "execution_count": 18,
   "id": "1ea92fb9",
   "metadata": {},
   "outputs": [],
   "source": [
    "X_train, X_test, y_train, y_test = train_test_split(X, \n",
    "                                                    y, \n",
    "                                                    test_size=0.2, \n",
    "                                                    random_state=42)"
   ]
  },
  {
   "cell_type": "markdown",
   "id": "c5463518",
   "metadata": {},
   "source": [
    "# Linear Regression model"
   ]
  },
  {
   "cell_type": "code",
   "execution_count": 19,
   "id": "09dd67fc",
   "metadata": {},
   "outputs": [],
   "source": [
    "#Importing library for the same\n",
    "from sklearn.linear_model import LinearRegression"
   ]
  },
  {
   "cell_type": "code",
   "execution_count": 20,
   "id": "60ad5b24",
   "metadata": {},
   "outputs": [],
   "source": [
    "#Creating an instance\n",
    "lr_reg = LinearRegression()"
   ]
  },
  {
   "cell_type": "code",
   "execution_count": 21,
   "id": "c3ca794d",
   "metadata": {},
   "outputs": [],
   "source": [
    "#Building the model\n",
    "lr_model=lr_reg.fit(X_train, y_train)\n",
    "y_pred = lr_model.predict(X_test)"
   ]
  },
  {
   "cell_type": "markdown",
   "id": "10e85e21",
   "metadata": {},
   "source": [
    "Evaluation of model"
   ]
  },
  {
   "cell_type": "code",
   "execution_count": 22,
   "id": "9d62e87a",
   "metadata": {},
   "outputs": [],
   "source": [
    "#importing libraries for the same\n",
    "from sklearn.metrics import mean_squared_error,r2_score"
   ]
  },
  {
   "cell_type": "code",
   "execution_count": 23,
   "id": "6b3f967c",
   "metadata": {},
   "outputs": [
    {
     "name": "stdout",
     "output_type": "stream",
     "text": [
      "The mean squared error for linear model is : 4326906256.829671\n",
      "The R squared error for linear model is : 0.36759313425902185\n"
     ]
    }
   ],
   "source": [
    "print('The mean squared error for linear model is :',mean_squared_error(y_test,y_pred))\n",
    "print('The R squared error for linear model is :',r2_score(y_test,y_pred))"
   ]
  },
  {
   "cell_type": "markdown",
   "id": "adcabe0a",
   "metadata": {},
   "source": [
    "# Lets look at the model score for training and test data"
   ]
  },
  {
   "cell_type": "code",
   "execution_count": 24,
   "id": "cd232d01",
   "metadata": {},
   "outputs": [
    {
     "name": "stdout",
     "output_type": "stream",
     "text": [
      "The model score on training data is : 0.6389354253755697\n",
      "The model score on testing data is : 0.36759313425902185\n"
     ]
    }
   ],
   "source": [
    "print('The model score on training data is :',lr_model.score(X_train, y_train))\n",
    "print('The model score on testing data is :',lr_model.score(X_test, y_test))"
   ]
  },
  {
   "cell_type": "code",
   "execution_count": 25,
   "id": "e2cc2678",
   "metadata": {},
   "outputs": [
    {
     "data": {
      "image/png": "[encoded data removed]",
      "text/plain": [
       "<Figure size 432x288 with 1 Axes>"
      ]
     },
     "metadata": {
      "needs_background": "light"
     },
     "output_type": "display_data"
    }
   ],
   "source": [
    "sns.regplot(x = \"Year\", y = \"Price\", data = data)\n",
    "plt.title(\"Year vs Price\")\n",
    "plt.show()"
   ]
  },
  {
   "cell_type": "markdown",
   "id": "14859f75",
   "metadata": {},
   "source": [
    "Eventhough the line fit the training data really well,it had low Bias.It did not fit the testing data ver well at all which means it has high variance."
   ]
  },
  {
   "cell_type": "markdown",
   "id": "7eaacd92",
   "metadata": {},
   "source": [
    "As the model score for trainig and test data differs its shows overfitting. We can use Lasso regression to regularise the overfitting issue."
   ]
  },
  {
   "cell_type": "markdown",
   "id": "793872f5",
   "metadata": {},
   "source": [
    "# Prediction for the year 2022"
   ]
  },
  {
   "cell_type": "code",
   "execution_count": 26,
   "id": "cafb7276",
   "metadata": {},
   "outputs": [
    {
     "name": "stdout",
     "output_type": "stream",
     "text": [
      "The prediction for possible price of a 2022 model second-hand grand i10 is : [743601.61594504]\n"
     ]
    }
   ],
   "source": [
    "pred_2022=lr_model.predict([[2022]])\n",
    "print('The prediction for possible price of a 2022 model second-hand grand i10 is :',pred_2022)"
   ]
  },
  {
   "cell_type": "markdown",
   "id": "3e6304c6",
   "metadata": {},
   "source": [
    "# Lasso Regresion model"
   ]
  },
  {
   "cell_type": "markdown",
   "id": "c5fa79c0",
   "metadata": {},
   "source": [
    "Lasso deals with overfitting by shrinking the parameterts towards 0"
   ]
  },
  {
   "cell_type": "code",
   "execution_count": 27,
   "id": "aa1f11f2",
   "metadata": {},
   "outputs": [],
   "source": [
    "#for finding the best value for alpha we use GridSearchCV\n",
    "from sklearn.linear_model import Lasso\n",
    "from sklearn.model_selection import GridSearchCV"
   ]
  },
  {
   "cell_type": "code",
   "execution_count": 28,
   "id": "5f474157",
   "metadata": {},
   "outputs": [
    {
     "name": "stdout",
     "output_type": "stream",
     "text": [
      "The best value for alpha : {'alpha': 1e-15}\n",
      "MSE for lasso regression is : 3564922131.7258463\n"
     ]
    }
   ],
   "source": [
    "lasso_model = Lasso()\n",
    "params = {'alpha': np.arange(1e-15, 100)}\n",
    "lasso_regressor = GridSearchCV(lasso_model, params, scoring='neg_mean_squared_error', cv=5)\n",
    "\n",
    "las_model=lasso_regressor.fit(X,y)\n",
    "print('The best value for alpha :',lasso_regressor.best_params_)\n",
    "print('MSE for lasso regression is :',np.abs(lasso_regressor.best_score_))"
   ]
  },
  {
   "cell_type": "code",
   "execution_count": 29,
   "id": "1f079a30",
   "metadata": {},
   "outputs": [],
   "source": [
    "#y_test prediction\n",
    "lasso_y_pred = lasso_regressor.predict(X_test)"
   ]
  },
  {
   "cell_type": "markdown",
   "id": "614a5136",
   "metadata": {},
   "source": [
    " Evaluation of lasso model"
   ]
  },
  {
   "cell_type": "code",
   "execution_count": 30,
   "id": "e3c972ec",
   "metadata": {},
   "outputs": [
    {
     "name": "stdout",
     "output_type": "stream",
     "text": [
      "The mean squared error of lasso model is : 3652515706.7561846\n",
      "The R squared error of lasso model is : 0.46615991355638453\n"
     ]
    }
   ],
   "source": [
    "print('The mean squared error of lasso model is :',mean_squared_error(y_test,lasso_y_pred))\n",
    "print('The R squared error of lasso model is :',r2_score(y_test,lasso_y_pred))"
   ]
  },
  {
   "cell_type": "markdown",
   "id": "8ba488bb",
   "metadata": {},
   "source": [
    "# Prediction for year 2022 using lasso regression"
   ]
  },
  {
   "cell_type": "code",
   "execution_count": 31,
   "id": "f11009ea",
   "metadata": {},
   "outputs": [
    {
     "name": "stdout",
     "output_type": "stream",
     "text": [
      "The prediction for possible price of a 2022 model by lasso regression of a second-hand grand i10 is : [715488.07850976]\n"
     ]
    }
   ],
   "source": [
    "lasso_2022=lasso_regressor.predict([[2022]])\n",
    "print('The prediction for possible price of a 2022 model by lasso regression of a second-hand grand i10 is :',lasso_2022)"
   ]
  },
  {
   "cell_type": "markdown",
   "id": "e7e80568",
   "metadata": {},
   "source": [
    "# Comparison of Linear and Lasso model"
   ]
  },
  {
   "cell_type": "markdown",
   "id": "6df2fef9",
   "metadata": {},
   "source": [
    "Linear model:"
   ]
  },
  {
   "cell_type": "raw",
   "id": "76c0593b",
   "metadata": {},
   "source": [
    "The mean squared error for linear model is : 4326906256.829671\n",
    "The R squared error for linear model is : 0.36759313425902185"
   ]
  },
  {
   "cell_type": "markdown",
   "id": "e896c498",
   "metadata": {},
   "source": [
    "Lasso model:"
   ]
  },
  {
   "cell_type": "raw",
   "id": "e01c85ec",
   "metadata": {},
   "source": [
    "The mean squared error of lasso model is : 3652515706.7561846\n",
    "The R squared error of lasso model is : 0.46615991355638453"
   ]
  },
  {
   "cell_type": "markdown",
   "id": "7d614e57",
   "metadata": {},
   "source": [
    "Lasso regression model has comparitively low error than Linear and hence it could be a better model than Linear"
   ]
  },
  {
   "cell_type": "code",
   "execution_count": null,
   "id": "173c5f2c",
   "metadata": {},
   "outputs": [],
   "source": []
  }
 ],
 "metadata": {
  "kernelspec": {
   "display_name": "Python 3 (ipykernel)",
   "language": "python",
   "name": "python3"
  },
  "language_info": {
   "codemirror_mode": {
    "name": "ipython",
    "version": 3
   },
   "file_extension": ".py",
   "mimetype": "text/x-python",
   "name": "python",
   "nbconvert_exporter": "python",
   "pygments_lexer": "ipython3",
   "version": "3.9.12"
  }
 },
 "nbformat": 4,
 "nbformat_minor": 5
}
